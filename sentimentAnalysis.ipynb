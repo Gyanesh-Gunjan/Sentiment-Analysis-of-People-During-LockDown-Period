{
  "nbformat": 4,
  "nbformat_minor": 0,
  "metadata": {
    "colab": {
      "name": "sentimentAnalysis.ipynb",
      "provenance": [],
      "authorship_tag": "ABX9TyMin9qVb5CmavylrkaDh7T3"
    },
    "kernelspec": {
      "name": "python3",
      "display_name": "Python 3"
    }
  },
  "cells": [
    {
      "cell_type": "code",
      "metadata": {
        "id": "CyflMUbkzbRc",
        "colab_type": "code",
        "colab": {}
      },
      "source": [
        "# Import the libraries\n",
        "from textblob import TextBlob\n",
        "from wordcloud import WordCloud\n",
        "import pandas\n",
        "import numpy\n",
        "import re\n",
        "import matplotlib.pyplot as plt\n",
        "import csv\n",
        "plt.style.use('fivethirtyeight')"
      ],
      "execution_count": 0,
      "outputs": []
    },
    {
      "cell_type": "code",
      "metadata": {
        "id": "KU550ngUzlTD",
        "colab_type": "code",
        "colab": {
          "resources": {
            "http://localhost:8080/nbextensions/google.colab/files.js": {
              "data": "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",
              "ok": true,
              "headers": [
                [
                  "content-type",
                  "application/javascript"
                ]
              ],
              "status": 200,
              "status_text": ""
            }
          },
          "base_uri": "https://localhost:8080/",
          "height": 74
        },
        "outputId": "7448b289-3302-43f0-aab2-a9940bbda05a"
      },
      "source": [
        "# Load Data from local storage\n",
        "from google.colab import files\n",
        "uploaded = files.upload()"
      ],
      "execution_count": 2,
      "outputs": [
        {
          "output_type": "display_data",
          "data": {
            "text/html": [
              "\n",
              "     <input type=\"file\" id=\"files-043dd3e2-25ef-4926-9c33-add88bc9b791\" name=\"files[]\" multiple disabled />\n",
              "     <output id=\"result-043dd3e2-25ef-4926-9c33-add88bc9b791\">\n",
              "      Upload widget is only available when the cell has been executed in the\n",
              "      current browser session. Please rerun this cell to enable.\n",
              "      </output>\n",
              "      <script src=\"/nbextensions/google.colab/files.js\"></script> "
            ],
            "text/plain": [
              "<IPython.core.display.HTML object>"
            ]
          },
          "metadata": {
            "tags": []
          }
        },
        {
          "output_type": "stream",
          "text": [
            "Saving RawData.txt to RawData.txt\n"
          ],
          "name": "stdout"
        }
      ]
    },
    {
      "cell_type": "code",
      "metadata": {
        "id": "4K12vcClzyzy",
        "colab_type": "code",
        "colab": {}
      },
      "source": [
        "# Framing all posts from RawData.txt file\n",
        "with open('RawData.txt','r') as raw_file:\n",
        "  posts_Data = pandas.DataFrame([tweet for tweet in raw_file], columns=['Tweets'])"
      ],
      "execution_count": 0,
      "outputs": []
    },
    {
      "cell_type": "code",
      "metadata": {
        "id": "CYDJkEKQz4Ph",
        "colab_type": "code",
        "colab": {
          "base_uri": "https://localhost:8080/",
          "height": 402
        },
        "outputId": "b108f0f1-44c7-47b1-cc2b-1de8106bc99f"
      },
      "source": [
        "# Display Data\n",
        "posts_Data"
      ],
      "execution_count": 4,
      "outputs": [
        {
          "output_type": "execute_result",
          "data": {
            "text/html": [
              "<div>\n",
              "<style scoped>\n",
              "    .dataframe tbody tr th:only-of-type {\n",
              "        vertical-align: middle;\n",
              "    }\n",
              "\n",
              "    .dataframe tbody tr th {\n",
              "        vertical-align: top;\n",
              "    }\n",
              "\n",
              "    .dataframe thead th {\n",
              "        text-align: right;\n",
              "    }\n",
              "</style>\n",
              "<table border=\"1\" class=\"dataframe\">\n",
              "  <thead>\n",
              "    <tr style=\"text-align: right;\">\n",
              "      <th></th>\n",
              "      <th>Tweets</th>\n",
              "    </tr>\n",
              "  </thead>\n",
              "  <tbody>\n",
              "    <tr>\n",
              "      <th>0</th>\n",
              "      <td>Am I being thick or is there something I'm mis...</td>\n",
              "    </tr>\n",
              "    <tr>\n",
              "      <th>1</th>\n",
              "      <td>There should be no kissing from 4th of May, Bu...</td>\n",
              "    </tr>\n",
              "    <tr>\n",
              "      <th>2</th>\n",
              "      <td>Virgin Media is down &amp; they don’t know what th...</td>\n",
              "    </tr>\n",
              "    <tr>\n",
              "      <th>3</th>\n",
              "      <td>My day. 6.15am - 9.15am work. 09.15am to 11.15...</td>\n",
              "    </tr>\n",
              "    <tr>\n",
              "      <th>4</th>\n",
              "      <td>Thanks,ironically some journalists in global m...</td>\n",
              "    </tr>\n",
              "    <tr>\n",
              "      <th>...</th>\n",
              "      <td>...</td>\n",
              "    </tr>\n",
              "    <tr>\n",
              "      <th>445</th>\n",
              "      <td>First positive case in Purnea. Person and fami...</td>\n",
              "    </tr>\n",
              "    <tr>\n",
              "      <th>446</th>\n",
              "      <td>All this talk of ‘getting the UK back to work’...</td>\n",
              "    </tr>\n",
              "    <tr>\n",
              "      <th>447</th>\n",
              "      <td>And me. Although I did have an idea for a blog...</td>\n",
              "    </tr>\n",
              "    <tr>\n",
              "      <th>448</th>\n",
              "      <td>Its no different going to B&amp;Q to buy plants or...</td>\n",
              "    </tr>\n",
              "    <tr>\n",
              "      <th>449</th>\n",
              "      <td>Doctors: Data Proves That Covid Death Rate is ...</td>\n",
              "    </tr>\n",
              "  </tbody>\n",
              "</table>\n",
              "<p>450 rows × 1 columns</p>\n",
              "</div>"
            ],
            "text/plain": [
              "                                                Tweets\n",
              "0    Am I being thick or is there something I'm mis...\n",
              "1    There should be no kissing from 4th of May, Bu...\n",
              "2    Virgin Media is down & they don’t know what th...\n",
              "3    My day. 6.15am - 9.15am work. 09.15am to 11.15...\n",
              "4    Thanks,ironically some journalists in global m...\n",
              "..                                                 ...\n",
              "445  First positive case in Purnea. Person and fami...\n",
              "446  All this talk of ‘getting the UK back to work’...\n",
              "447  And me. Although I did have an idea for a blog...\n",
              "448  Its no different going to B&Q to buy plants or...\n",
              "449  Doctors: Data Proves That Covid Death Rate is ...\n",
              "\n",
              "[450 rows x 1 columns]"
            ]
          },
          "metadata": {
            "tags": []
          },
          "execution_count": 4
        }
      ]
    },
    {
      "cell_type": "code",
      "metadata": {
        "id": "SY0qkrDtz9Mh",
        "colab_type": "code",
        "colab": {
          "base_uri": "https://localhost:8080/",
          "height": 373
        },
        "outputId": "cb6744f7-3920-468b-ea95-b5773d5e5b6d"
      },
      "source": [
        "# Displaying first 10 Tweets Before cleaning\n",
        "for i in range(0, posts_Data.shape[0]):\n",
        "  print(i+1,\")\",posts_Data['Tweets'][i])\n",
        "  if i == 9 :\n",
        "    break"
      ],
      "execution_count": 6,
      "outputs": [
        {
          "output_type": "stream",
          "text": [
            "1 ) Am I being thick or is there something I'm missing. What difference does keeping the middle seat free make? 4 hours breathing in the recirculating air con? 2 toilets between 100 people? Walking up the aisle to go to toilet. Absolute nonsense #COVID19 #easyjet #lockdown\n",
            "\n",
            "2 ) There should be no kissing from 4th of May, Buhari forget to say it...coronavirus can also be spread by kissing Face with tears of joy. bros body don full already after #lockdown buai na gf house(tefetefe) Face with tears of joy\n",
            "\n",
            "3 ) Virgin Media is down & they don’t know what the cause is... This has got Carole Baskin written all over it! #virginmedia #virginmediadown #lockdown #stayhome\n",
            "\n",
            "4 ) My day. 6.15am - 9.15am work. 09.15am to 11.15am feeding children and attempting to school them. 11.15am-8.15pm more feeding people, zoom calls, work and saying “maybe just try to do a bit of reading instead of just screens”.... “but mum, it’s minecraft Monday.” #lockdown\n",
            "\n",
            "5 ) Thanks,ironically some journalists in global media spaces are also attacking #lockdown in South Africa and #curfew in Kenya,makes me wonder would they really support it if/when #Tanzania do it or it's simply a matter of it doesn't matter what you do or don't-single story prevail?\n",
            "\n",
            "6 ) I appreciate your critique on this and contextualizing Magafuli's response.Later, analysis on TZ v. Kenya's starkly different policies will be so crucial, not bc 1 is \"better\" but because lockdown is like Goldilocks: too much/little is differently dangerous, esp along neighbors.\n",
            "\n",
            "7 ) Mr president speech \"For the avoidance of doubt, the lockdown in the FCT, Lagos & Ogun States shall subsist remain in place until these new ones come into effect on  Saturday, 2nd May 2020 at 9am\" #lockdown #\n",
            "\n",
            "8 ) I’m sure the novelty will wear off as we go through the lockdown and the weather gets hotter, but still loving this spring golden light. \n",
            "\n",
            "9 ) A bit of light and shade on #2kmfromhome walk this evening. @barrabest Clouds bark worse than bite #lockdown #weather\n",
            "\n",
            "10 ) My 8-year old (Austin) has just finished #ratburger and loved it! 15 minutes of silent reading every day during #lockdown. Any chance of a message for him please @davidwalliams? ( He’s also convinced he’s going to win the DW prize from #BigNightIn)\n",
            "\n"
          ],
          "name": "stdout"
        }
      ]
    },
    {
      "cell_type": "code",
      "metadata": {
        "id": "EZRFAQJ50Gjk",
        "colab_type": "code",
        "colab": {}
      },
      "source": [
        "# defining function for cleaning data \n",
        "def cleanTweet(twt):\n",
        "  twt = re.sub(r'@\\S+','',twt)    # removed user tag\n",
        "  twt = re.sub(r'#\\S+','',twt)    # removed #mention\n",
        "  twt = re.sub(r'RT[\\S]+','',twt)         # removed RT\n",
        "  twt = re.sub(r'http\\S+','',twt)         # removed Links\n",
        "  return twt "
      ],
      "execution_count": 0,
      "outputs": []
    },
    {
      "cell_type": "code",
      "metadata": {
        "id": "uJGlm1-M0K2Q",
        "colab_type": "code",
        "colab": {
          "base_uri": "https://localhost:8080/",
          "height": 373
        },
        "outputId": "7b2187b0-e08c-4c92-efb5-8bae68617779"
      },
      "source": [
        "# Cleaning all tweets \n",
        "posts_Data['Tweets'] = posts_Data['Tweets'].apply(cleanTweet)\n",
        "\n",
        "# Displaying first 10 Tweets After cleaning\n",
        "for i in range(0, posts_Data.shape[0]):\n",
        "  print(i+1,\")\",posts_Data['Tweets'][i])\n",
        "  if i == 9 :\n",
        "    break"
      ],
      "execution_count": 8,
      "outputs": [
        {
          "output_type": "stream",
          "text": [
            "1 ) Am I being thick or is there something I'm missing. What difference does keeping the middle seat free make? 4 hours breathing in the recirculating air con? 2 toilets between 100 people? Walking up the aisle to go to toilet. Absolute nonsense   \n",
            "\n",
            "2 ) There should be no kissing from 4th of May, Buhari forget to say it...coronavirus can also be spread by kissing Face with tears of joy. bros body don full already after  buai na gf house(tefetefe) Face with tears of joy\n",
            "\n",
            "3 ) Virgin Media is down & they don’t know what the cause is... This has got Carole Baskin written all over it!    \n",
            "\n",
            "4 ) My day. 6.15am - 9.15am work. 09.15am to 11.15am feeding children and attempting to school them. 11.15am-8.15pm more feeding people, zoom calls, work and saying “maybe just try to do a bit of reading instead of just screens”.... “but mum, it’s minecraft Monday.” \n",
            "\n",
            "5 ) Thanks,ironically some journalists in global media spaces are also attacking  in South Africa and  in Kenya,makes me wonder would they really support it if/when  do it or it's simply a matter of it doesn't matter what you do or don't-single story prevail?\n",
            "\n",
            "6 ) I appreciate your critique on this and contextualizing Magafuli's response.Later, analysis on TZ v. Kenya's starkly different policies will be so crucial, not bc 1 is \"better\" but because lockdown is like Goldilocks: too much/little is differently dangerous, esp along neighbors.\n",
            "\n",
            "7 ) Mr president speech \"For the avoidance of doubt, the lockdown in the FCT, Lagos & Ogun States shall subsist remain in place until these new ones come into effect on  Saturday, 2nd May 2020 at 9am\"  #\n",
            "\n",
            "8 ) I’m sure the novelty will wear off as we go through the lockdown and the weather gets hotter, but still loving this spring golden light. \n",
            "\n",
            "9 ) A bit of light and shade on  walk this evening.  Clouds bark worse than bite  \n",
            "\n",
            "10 ) My 8-year old (Austin) has just finished  and loved it! 15 minutes of silent reading every day during  Any chance of a message for him please  ( He’s also convinced he’s going to win the DW prize from \n",
            "\n"
          ],
          "name": "stdout"
        }
      ]
    },
    {
      "cell_type": "code",
      "metadata": {
        "id": "Uuv6w-gg0PC6",
        "colab_type": "code",
        "colab": {}
      },
      "source": [
        "# defining function for subjectivity \n",
        "def getSubjectivity(twt):\n",
        "  return TextBlob(twt).sentiment.subjectivity\n",
        "\n",
        "# defining function for Polarity\n",
        "def getPolarity(twt):\n",
        "  return TextBlob(twt).sentiment.polarity"
      ],
      "execution_count": 0,
      "outputs": []
    },
    {
      "cell_type": "code",
      "metadata": {
        "id": "XhOMOAdf0V44",
        "colab_type": "code",
        "colab": {
          "base_uri": "https://localhost:8080/",
          "height": 402
        },
        "outputId": "ec690716-7ecf-4fe2-cb4e-8c06d01e1e63"
      },
      "source": [
        "# Adding Sentiment crossponding each tweets\n",
        "posts_Data['Subjectivity'] = posts_Data['Tweets'].apply(getSubjectivity)\n",
        "\n",
        "posts_Data['Polarity'] = posts_Data['Tweets'].apply(getPolarity)\n",
        "\n",
        "# displaying data \n",
        "posts_Data"
      ],
      "execution_count": 10,
      "outputs": [
        {
          "output_type": "execute_result",
          "data": {
            "text/html": [
              "<div>\n",
              "<style scoped>\n",
              "    .dataframe tbody tr th:only-of-type {\n",
              "        vertical-align: middle;\n",
              "    }\n",
              "\n",
              "    .dataframe tbody tr th {\n",
              "        vertical-align: top;\n",
              "    }\n",
              "\n",
              "    .dataframe thead th {\n",
              "        text-align: right;\n",
              "    }\n",
              "</style>\n",
              "<table border=\"1\" class=\"dataframe\">\n",
              "  <thead>\n",
              "    <tr style=\"text-align: right;\">\n",
              "      <th></th>\n",
              "      <th>Tweets</th>\n",
              "      <th>Subjectivity</th>\n",
              "      <th>Polarity</th>\n",
              "    </tr>\n",
              "  </thead>\n",
              "  <tbody>\n",
              "    <tr>\n",
              "      <th>0</th>\n",
              "      <td>Am I being thick or is there something I'm mis...</td>\n",
              "      <td>0.370833</td>\n",
              "      <td>0.011111</td>\n",
              "    </tr>\n",
              "    <tr>\n",
              "      <th>1</th>\n",
              "      <td>There should be no kissing from 4th of May, Bu...</td>\n",
              "      <td>0.316667</td>\n",
              "      <td>0.650000</td>\n",
              "    </tr>\n",
              "    <tr>\n",
              "      <th>2</th>\n",
              "      <td>Virgin Media is down &amp; they don’t know what th...</td>\n",
              "      <td>0.288889</td>\n",
              "      <td>-0.194444</td>\n",
              "    </tr>\n",
              "    <tr>\n",
              "      <th>3</th>\n",
              "      <td>My day. 6.15am - 9.15am work. 09.15am to 11.15...</td>\n",
              "      <td>0.500000</td>\n",
              "      <td>0.500000</td>\n",
              "    </tr>\n",
              "    <tr>\n",
              "      <th>4</th>\n",
              "      <td>Thanks,ironically some journalists in global m...</td>\n",
              "      <td>0.185714</td>\n",
              "      <td>0.066667</td>\n",
              "    </tr>\n",
              "    <tr>\n",
              "      <th>...</th>\n",
              "      <td>...</td>\n",
              "      <td>...</td>\n",
              "      <td>...</td>\n",
              "    </tr>\n",
              "    <tr>\n",
              "      <th>445</th>\n",
              "      <td>First positive case in Purnea. Person and fami...</td>\n",
              "      <td>0.439394</td>\n",
              "      <td>0.238636</td>\n",
              "    </tr>\n",
              "    <tr>\n",
              "      <th>446</th>\n",
              "      <td>All this talk of ‘getting the UK back to work’...</td>\n",
              "      <td>0.000000</td>\n",
              "      <td>0.000000</td>\n",
              "    </tr>\n",
              "    <tr>\n",
              "      <th>447</th>\n",
              "      <td>And me. Although I did have an idea for a blog...</td>\n",
              "      <td>0.400000</td>\n",
              "      <td>0.266667</td>\n",
              "    </tr>\n",
              "    <tr>\n",
              "      <th>448</th>\n",
              "      <td>Its no different going to B&amp;Q to buy plants or...</td>\n",
              "      <td>0.450000</td>\n",
              "      <td>0.000000</td>\n",
              "    </tr>\n",
              "    <tr>\n",
              "      <th>449</th>\n",
              "      <td>Doctors: Data Proves That Covid Death Rate is ...</td>\n",
              "      <td>0.356667</td>\n",
              "      <td>0.100000</td>\n",
              "    </tr>\n",
              "  </tbody>\n",
              "</table>\n",
              "<p>450 rows × 3 columns</p>\n",
              "</div>"
            ],
            "text/plain": [
              "                                                Tweets  Subjectivity  Polarity\n",
              "0    Am I being thick or is there something I'm mis...      0.370833  0.011111\n",
              "1    There should be no kissing from 4th of May, Bu...      0.316667  0.650000\n",
              "2    Virgin Media is down & they don’t know what th...      0.288889 -0.194444\n",
              "3    My day. 6.15am - 9.15am work. 09.15am to 11.15...      0.500000  0.500000\n",
              "4    Thanks,ironically some journalists in global m...      0.185714  0.066667\n",
              "..                                                 ...           ...       ...\n",
              "445  First positive case in Purnea. Person and fami...      0.439394  0.238636\n",
              "446  All this talk of ‘getting the UK back to work’...      0.000000  0.000000\n",
              "447  And me. Although I did have an idea for a blog...      0.400000  0.266667\n",
              "448  Its no different going to B&Q to buy plants or...      0.450000  0.000000\n",
              "449  Doctors: Data Proves That Covid Death Rate is ...      0.356667  0.100000\n",
              "\n",
              "[450 rows x 3 columns]"
            ]
          },
          "metadata": {
            "tags": []
          },
          "execution_count": 10
        }
      ]
    },
    {
      "cell_type": "code",
      "metadata": {
        "id": "14GUNzz60d-v",
        "colab_type": "code",
        "colab": {}
      },
      "source": [
        "# Define function for analyzing Polarity\n",
        "def getAnalysis(score):\n",
        "  if score < 0:\n",
        "    return 'Negative'\n",
        "  elif score == 0 :\n",
        "    return 'Neutral'\n",
        "  else:\n",
        "    return 'Positive'\n",
        "  "
      ],
      "execution_count": 0,
      "outputs": []
    },
    {
      "cell_type": "code",
      "metadata": {
        "id": "1U5DnegZ0hTp",
        "colab_type": "code",
        "colab": {
          "base_uri": "https://localhost:8080/",
          "height": 402
        },
        "outputId": "13bda8e8-c0a5-4a96-c6ae-65d84b0d876b"
      },
      "source": [
        "# Create Analysis column based on polarity\n",
        "posts_Data['Analysis'] = posts_Data['Polarity'].apply(getAnalysis)\n",
        "\n",
        "# diplay data\n",
        "posts_Data"
      ],
      "execution_count": 12,
      "outputs": [
        {
          "output_type": "execute_result",
          "data": {
            "text/html": [
              "<div>\n",
              "<style scoped>\n",
              "    .dataframe tbody tr th:only-of-type {\n",
              "        vertical-align: middle;\n",
              "    }\n",
              "\n",
              "    .dataframe tbody tr th {\n",
              "        vertical-align: top;\n",
              "    }\n",
              "\n",
              "    .dataframe thead th {\n",
              "        text-align: right;\n",
              "    }\n",
              "</style>\n",
              "<table border=\"1\" class=\"dataframe\">\n",
              "  <thead>\n",
              "    <tr style=\"text-align: right;\">\n",
              "      <th></th>\n",
              "      <th>Tweets</th>\n",
              "      <th>Subjectivity</th>\n",
              "      <th>Polarity</th>\n",
              "      <th>Analysis</th>\n",
              "    </tr>\n",
              "  </thead>\n",
              "  <tbody>\n",
              "    <tr>\n",
              "      <th>0</th>\n",
              "      <td>Am I being thick or is there something I'm mis...</td>\n",
              "      <td>0.370833</td>\n",
              "      <td>0.011111</td>\n",
              "      <td>Positive</td>\n",
              "    </tr>\n",
              "    <tr>\n",
              "      <th>1</th>\n",
              "      <td>There should be no kissing from 4th of May, Bu...</td>\n",
              "      <td>0.316667</td>\n",
              "      <td>0.650000</td>\n",
              "      <td>Positive</td>\n",
              "    </tr>\n",
              "    <tr>\n",
              "      <th>2</th>\n",
              "      <td>Virgin Media is down &amp; they don’t know what th...</td>\n",
              "      <td>0.288889</td>\n",
              "      <td>-0.194444</td>\n",
              "      <td>Negative</td>\n",
              "    </tr>\n",
              "    <tr>\n",
              "      <th>3</th>\n",
              "      <td>My day. 6.15am - 9.15am work. 09.15am to 11.15...</td>\n",
              "      <td>0.500000</td>\n",
              "      <td>0.500000</td>\n",
              "      <td>Positive</td>\n",
              "    </tr>\n",
              "    <tr>\n",
              "      <th>4</th>\n",
              "      <td>Thanks,ironically some journalists in global m...</td>\n",
              "      <td>0.185714</td>\n",
              "      <td>0.066667</td>\n",
              "      <td>Positive</td>\n",
              "    </tr>\n",
              "    <tr>\n",
              "      <th>...</th>\n",
              "      <td>...</td>\n",
              "      <td>...</td>\n",
              "      <td>...</td>\n",
              "      <td>...</td>\n",
              "    </tr>\n",
              "    <tr>\n",
              "      <th>445</th>\n",
              "      <td>First positive case in Purnea. Person and fami...</td>\n",
              "      <td>0.439394</td>\n",
              "      <td>0.238636</td>\n",
              "      <td>Positive</td>\n",
              "    </tr>\n",
              "    <tr>\n",
              "      <th>446</th>\n",
              "      <td>All this talk of ‘getting the UK back to work’...</td>\n",
              "      <td>0.000000</td>\n",
              "      <td>0.000000</td>\n",
              "      <td>Neutral</td>\n",
              "    </tr>\n",
              "    <tr>\n",
              "      <th>447</th>\n",
              "      <td>And me. Although I did have an idea for a blog...</td>\n",
              "      <td>0.400000</td>\n",
              "      <td>0.266667</td>\n",
              "      <td>Positive</td>\n",
              "    </tr>\n",
              "    <tr>\n",
              "      <th>448</th>\n",
              "      <td>Its no different going to B&amp;Q to buy plants or...</td>\n",
              "      <td>0.450000</td>\n",
              "      <td>0.000000</td>\n",
              "      <td>Neutral</td>\n",
              "    </tr>\n",
              "    <tr>\n",
              "      <th>449</th>\n",
              "      <td>Doctors: Data Proves That Covid Death Rate is ...</td>\n",
              "      <td>0.356667</td>\n",
              "      <td>0.100000</td>\n",
              "      <td>Positive</td>\n",
              "    </tr>\n",
              "  </tbody>\n",
              "</table>\n",
              "<p>450 rows × 4 columns</p>\n",
              "</div>"
            ],
            "text/plain": [
              "                                                Tweets  ...  Analysis\n",
              "0    Am I being thick or is there something I'm mis...  ...  Positive\n",
              "1    There should be no kissing from 4th of May, Bu...  ...  Positive\n",
              "2    Virgin Media is down & they don’t know what th...  ...  Negative\n",
              "3    My day. 6.15am - 9.15am work. 09.15am to 11.15...  ...  Positive\n",
              "4    Thanks,ironically some journalists in global m...  ...  Positive\n",
              "..                                                 ...  ...       ...\n",
              "445  First positive case in Purnea. Person and fami...  ...  Positive\n",
              "446  All this talk of ‘getting the UK back to work’...  ...   Neutral\n",
              "447  And me. Although I did have an idea for a blog...  ...  Positive\n",
              "448  Its no different going to B&Q to buy plants or...  ...   Neutral\n",
              "449  Doctors: Data Proves That Covid Death Rate is ...  ...  Positive\n",
              "\n",
              "[450 rows x 4 columns]"
            ]
          },
          "metadata": {
            "tags": []
          },
          "execution_count": 12
        }
      ]
    },
    {
      "cell_type": "code",
      "metadata": {
        "id": "ZcegxiwQ0rUI",
        "colab_type": "code",
        "colab": {
          "base_uri": "https://localhost:8080/",
          "height": 793
        },
        "outputId": "9e58c832-44c6-4a32-cb61-6b578eb91ea2"
      },
      "source": [
        "# Print 15 Positive tweets\n",
        "count = 1\n",
        "sortedPostsData = posts_Data.sort_values(by=['Polarity'])\n",
        "for i in range(0,sortedPostsData.shape[0]):\n",
        "  if sortedPostsData['Analysis'][i] == 'Positive':\n",
        "    print(count,\")\",sortedPostsData['Tweets'][i])\n",
        "    print()\n",
        "    if count == 15 :\n",
        "      break\n",
        "    count += 1"
      ],
      "execution_count": 13,
      "outputs": [
        {
          "output_type": "stream",
          "text": [
            "1 ) Am I being thick or is there something I'm missing. What difference does keeping the middle seat free make? 4 hours breathing in the recirculating air con? 2 toilets between 100 people? Walking up the aisle to go to toilet. Absolute nonsense   \n",
            "\n",
            "\n",
            "2 ) There should be no kissing from 4th of May, Buhari forget to say it...coronavirus can also be spread by kissing Face with tears of joy. bros body don full already after  buai na gf house(tefetefe) Face with tears of joy\n",
            "\n",
            "\n",
            "3 ) My day. 6.15am - 9.15am work. 09.15am to 11.15am feeding children and attempting to school them. 11.15am-8.15pm more feeding people, zoom calls, work and saying “maybe just try to do a bit of reading instead of just screens”.... “but mum, it’s minecraft Monday.” \n",
            "\n",
            "\n",
            "4 ) Thanks,ironically some journalists in global media spaces are also attacking  in South Africa and  in Kenya,makes me wonder would they really support it if/when  do it or it's simply a matter of it doesn't matter what you do or don't-single story prevail?\n",
            "\n",
            "\n",
            "5 ) Mr president speech \"For the avoidance of doubt, the lockdown in the FCT, Lagos & Ogun States shall subsist remain in place until these new ones come into effect on  Saturday, 2nd May 2020 at 9am\"  #\n",
            "\n",
            "\n",
            "6 ) I’m sure the novelty will wear off as we go through the lockdown and the weather gets hotter, but still loving this spring golden light. \n",
            "\n",
            "\n",
            "7 ) My 8-year old (Austin) has just finished  and loved it! 15 minutes of silent reading every day during  Any chance of a message for him please  ( He’s also convinced he’s going to win the DW prize from \n",
            "\n",
            "\n",
            "8 ) Shout out with thanks to  for sorting us out with a good value business mobile contract and getting said mobile to us and working under   \n",
            "\n",
            "\n",
            "9 ) The lack of threat is reality. It is nothing to do with the  policy of  Many test cases now show the efficacy of  to be utterly useless. However it DOES destroy millions of jobs and kill many more than it 'saves' regardless of your inability to understand.\n",
            "\n",
            "\n",
            "10 ) The first minister of Wales has said he is ready to move the country out of lockdown earlier than the rest of the UK as he demands more contact from ministers at Westminster. Should Boris Johnson be the only one to lift the UK lockdown?   \n",
            "\n",
            "\n",
            "11 ) It takes a special kind of idiot to complain about our national animal,  a Springbok, on the background of the national flag as a Google doodle. The woke crowd wins again. \n",
            "\n",
            "\n",
            "12 ) Trying our best to support each and every  who are in  Provided one month of  to the  of Kurnool and  who got stuck due to    \n",
            "\n",
            "\n",
            "13 ) New Zealand Prime Minister Jacinda Ardern announces the country is ready to ease its  restrictions.\n",
            "\n",
            "\n",
            "14 ) Sometimes you will never know the true value of a moment until it becomes a memory. tales.\n",
            "\n",
            "\n",
            "15 ) Would participate at 9PM  debate probably not hosted by  for the first time during  because of the over 11hours interrogation of Mr Goswami that continues with the Mumbai Police! Do watch!!\n",
            "\n",
            "\n"
          ],
          "name": "stdout"
        }
      ]
    },
    {
      "cell_type": "code",
      "metadata": {
        "id": "lDjompZ3037I",
        "colab_type": "code",
        "colab": {
          "base_uri": "https://localhost:8080/",
          "height": 793
        },
        "outputId": "c8c5025d-fe37-4416-d8d2-9a877973fe54"
      },
      "source": [
        "# Print 15 Negative tweets\n",
        "count = 1\n",
        "sortedPostsData = posts_Data.sort_values(by=['Polarity'])\n",
        "for i in range(0,sortedPostsData.shape[0]):\n",
        "  if sortedPostsData['Analysis'][i] == 'Negative':\n",
        "    print(count,\")\",sortedPostsData['Tweets'][i])\n",
        "    print()\n",
        "    if count == 15:\n",
        "      break\n",
        "    count += 1"
      ],
      "execution_count": 14,
      "outputs": [
        {
          "output_type": "stream",
          "text": [
            "1 ) Virgin Media is down & they don’t know what the cause is... This has got Carole Baskin written all over it!    \n",
            "\n",
            "\n",
            "2 ) I appreciate your critique on this and contextualizing Magafuli's response.Later, analysis on TZ v. Kenya's starkly different policies will be so crucial, not bc 1 is \"better\" but because lockdown is like Goldilocks: too much/little is differently dangerous, esp along neighbors.\n",
            "\n",
            "\n",
            "3 ) Almost 2months without going to the night clubs or the beach and am still alive  has taught me the hard way.\n",
            "\n",
            "\n",
            "4 ) I'm so confused - are shops just allowed to choose whether they obey the government  rules?  \n",
            "\n",
            "\n",
            "5 ) A Hindu family arranges Iftar for a Muslim boy stranded in Majuli,Assam due to  \n",
            "\n",
            "\n",
            "6 ) To All  we pledge to support ...due to   facing problems in such troubled times pl Feel free to contact  Mr Meraj    \n",
            "\n",
            "\n",
            "7 ) Buying Property during  The Good,the Bad ,the Ugly. A Thread.\n",
            "\n",
            "\n",
            "8 ) Daily walk (at last!) round the bordered up cafes of Seville \n",
            "\n",
            "\n",
            "9 ) WHAT FUCKING DAY IS IT? \n",
            "\n",
            "\n",
            "10 ) The  fatigue is unreal. Seriously, I had my kiddo during my PhD, but I'm feeling more exhausted now than back then. I'm sleeping, exercising, and getting sun, but I wake up tired. Is everyone else also feeling like this?\n",
            "\n",
            "\n",
            "11 )  has become an excuse to target  protesters, especially students of   Let’s not allow  be used to destroy  \n",
            "\n",
            "\n",
            "12 ) I doubt anyone wants a permanent  Lockdowns like ours have in reality been haphazard as many evidences show. It has also unequally affected the poor and vulnerable whose full compliance  ought to pay for, had all things been equal with our public finances.\n",
            "\n",
            "\n",
            "13 ) For the past 17 days, North Chennai Suriya Fans Welfare Association has been providing lunch for 250 poor & needy ppl everyday in Perambur,Kolathur,Madhavaram,TVK Nagar & Tondairpet areas. They plan to carry out this activity daily, upto May 3rd\n",
            "\n",
            "\n",
            "14 ) Been stippling up some of the  over the past weeks. Decided their faces also reflect some of the moods and thoughts we all have. So here they are; the moods of the \n",
            "\n",
            "\n",
            "15 ) I have a feeling that barring few urban pockets the  won't be extended after May 3\n",
            "\n",
            "\n"
          ],
          "name": "stdout"
        }
      ]
    },
    {
      "cell_type": "code",
      "metadata": {
        "id": "wERuQFeo1DFJ",
        "colab_type": "code",
        "colab": {
          "base_uri": "https://localhost:8080/",
          "height": 34
        },
        "outputId": "aac172df-245c-4de5-b49e-8539ff915c95"
      },
      "source": [
        "# percentange of Positive Tweets\n",
        "print(\"Positive Tweets % : \",end=\"\")\n",
        "ptweets = posts_Data[posts_Data.Analysis=='Positive']\n",
        "ptweets = ptweets['Tweets']\n",
        "round((ptweets.shape[0]/posts_Data.shape[0])*100,1)"
      ],
      "execution_count": 15,
      "outputs": [
        {
          "output_type": "stream",
          "text": [
            "Positive Tweets % : "
          ],
          "name": "stdout"
        },
        {
          "output_type": "execute_result",
          "data": {
            "text/plain": [
              "56.7"
            ]
          },
          "metadata": {
            "tags": []
          },
          "execution_count": 15
        }
      ]
    },
    {
      "cell_type": "code",
      "metadata": {
        "id": "P7l4cK_G1HZa",
        "colab_type": "code",
        "colab": {
          "base_uri": "https://localhost:8080/",
          "height": 34
        },
        "outputId": "b57caed5-7ef7-49c0-906a-c088f57f2991"
      },
      "source": [
        "# percentage of Neutral Tweets\n",
        "neutraltwts = posts_Data[posts_Data.Analysis=='Neutral']\n",
        "neutraltwts = neutraltwts['Tweets']\n",
        "print(\"Neutral Tweets % : \",end=\"\")\n",
        "round((neutraltwts.shape[0]/posts_Data.shape[0])*100,1) "
      ],
      "execution_count": 16,
      "outputs": [
        {
          "output_type": "stream",
          "text": [
            "Neutral Tweets % : "
          ],
          "name": "stdout"
        },
        {
          "output_type": "execute_result",
          "data": {
            "text/plain": [
              "22.9"
            ]
          },
          "metadata": {
            "tags": []
          },
          "execution_count": 16
        }
      ]
    },
    {
      "cell_type": "code",
      "metadata": {
        "id": "F4qorQwd1Ljt",
        "colab_type": "code",
        "colab": {
          "base_uri": "https://localhost:8080/",
          "height": 34
        },
        "outputId": "dea7e171-8b2a-489c-b595-3a8f442cc027"
      },
      "source": [
        "# Percentage of Negative tweets\n",
        "ntweets = posts_Data[posts_Data.Analysis=='Negative']\n",
        "ntweets = ntweets['Tweets']\n",
        "print(\"Negative Tweets % : \",end=\"\")\n",
        "round((ntweets.shape[0]/posts_Data.shape[0])*100,1)"
      ],
      "execution_count": 17,
      "outputs": [
        {
          "output_type": "stream",
          "text": [
            "Negative Tweets % : "
          ],
          "name": "stdout"
        },
        {
          "output_type": "execute_result",
          "data": {
            "text/plain": [
              "20.4"
            ]
          },
          "metadata": {
            "tags": []
          },
          "execution_count": 17
        }
      ]
    },
    {
      "cell_type": "code",
      "metadata": {
        "id": "qNyV1RvQ1NQZ",
        "colab_type": "code",
        "colab": {}
      },
      "source": [
        ""
      ],
      "execution_count": 0,
      "outputs": []
    }
  ]
}